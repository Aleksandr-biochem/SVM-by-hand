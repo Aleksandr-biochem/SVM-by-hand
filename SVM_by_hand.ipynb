{
 "cells": [
  {
   "cell_type": "markdown",
   "metadata": {},
   "source": [
    "# SVM с жёстким зазором (hard-margin SVM)"
   ]
  },
  {
   "cell_type": "markdown",
   "metadata": {},
   "source": [
    "## Подрубаем библиотеки"
   ]
  },
  {
   "cell_type": "code",
   "execution_count": 1,
   "metadata": {},
   "outputs": [],
   "source": [
    "import numpy as np\n",
    "\n",
    "import warnings\n",
    "warnings.filterwarnings('ignore')\n",
    "\n",
    "import matplotlib.pyplot as plt\n",
    "%matplotlib inline\n",
    "\n",
    "from sklearn.decomposition import PCA\n",
    "from sklearn.model_selection import train_test_split"
   ]
  },
  {
   "cell_type": "markdown",
   "metadata": {},
   "source": [
    "## Алгоритм"
   ]
  },
  {
   "cell_type": "code",
   "execution_count": 2,
   "metadata": {},
   "outputs": [],
   "source": [
    "def add_bias_feature(a):\n",
    "    a_extended = np.zeros((a.shape[0],a.shape[1]+1))\n",
    "    a_extended[:,:-1] = a\n",
    "    a_extended[:,-1] = int(1)  \n",
    "    return a_extended\n",
    "\n",
    "\n",
    "class CustomSVM(object):\n",
    "    \n",
    "    __class__ = \"CustomSVM\"\n",
    "    __doc__ = \"\"\"\n",
    "    This is an implementation of the SVM classification algorithm\n",
    "    Note that it works only for binary classification\n",
    "    \n",
    "    #############################################################\n",
    "    ######################   PARAMETERS    ######################\n",
    "    #############################################################\n",
    "    \n",
    "    etha: float(default - 0.01)\n",
    "        Learning rate, gradient step\n",
    "        \n",
    "    alpha: float, (default - 1.0)\n",
    "        Regularization parameter in 0.5*alpha*||w||^2\n",
    "        \n",
    "    epochs: int, (default - 200)\n",
    "        Number of epochs of training\n",
    "      \n",
    "    #############################################################\n",
    "    #############################################################\n",
    "    #############################################################\n",
    "    \"\"\"\n",
    "    \n",
    "    def __init__(self, etha=0.01, alpha=0.1, epochs=200):\n",
    "        \n",
    "        self._epochs = epochs\n",
    "        self._etha = etha\n",
    "        self._alpha = alpha\n",
    "        \n",
    "        self._w = None\n",
    "        self.fit_n_errors = None\n",
    "        self.fit_loss = None\n",
    "    \n",
    "\n",
    "    def fit(self, X, Y, verbose=False): #arrays: X; Y =-1,1\n",
    "        \n",
    "        if len(set(Y)) != 2:\n",
    "            raise ValueError(\"Number of classes in Y is not equal 2!\")\n",
    "        \n",
    "        X_extended = add_bias_feature(X) \n",
    "        self._w = np.random.normal(loc=0, scale=0.05, size=X_extended.shape[1])\n",
    "        errors = []\n",
    "        loss_epoch = []\n",
    "        \n",
    "        for epoch in range(self._epochs):\n",
    "            err = 0\n",
    "            loss = 0\n",
    "            for i,x in enumerate(X_extended):\n",
    "                prod = np.dot(self._w,X_extended[i])\n",
    "                if Y[i]*prod >= 1: # классифицируем верно\n",
    "                    self._w = self._w + self._etha*self._alpha*self._w/self._epochs # +!\n",
    "                else: # классифицируем неверно\n",
    "                    self._w = self._w + self._etha*(Y[i]*X_extended[i] - self._alpha*self._w/self._epochs)\n",
    "                    err += 1\n",
    "                    loss += self._hinge(X_extended[i],Y[i])\n",
    "            \n",
    "            if verbose:\n",
    "                print('epoch {}. Errors={}. Mean Hinge_loss={}'.format(epoch,err,loss/X_extended.shape[0]))\n",
    "            errors.append(err)\n",
    "            loss_epoch.append(loss/X_extended.shape[0])\n",
    "            \n",
    "        self.fit_n_errors = np.array(errors)\n",
    "        self.fit_loss = np.array(loss_epoch)\n",
    "            \n",
    "\n",
    "    def predict(self, X:np.array) -> np.array:\n",
    "        y_pred = []\n",
    "        X_extended = add_bias_feature(X)\n",
    "        for i in range(len(X_extended)):\n",
    "            y_pred.append(np.sign(np.dot(self._w,X_extended[i])))\n",
    "        return np.array(y_pred)\n",
    "    \n",
    "    \n",
    "    def _hinge(self, x, y):\n",
    "        return max(0,1 - y*np.dot(x, self._w))"
   ]
  },
  {
   "cell_type": "markdown",
   "metadata": {},
   "source": [
    "## Демонстрируем, что работает:"
   ]
  },
  {
   "cell_type": "code",
   "execution_count": 3,
   "metadata": {},
   "outputs": [],
   "source": [
    "# блок подготовки данных\n",
    "from sklearn.datasets import load_iris\n",
    "iris = load_iris()\n",
    "X = iris.data\n",
    "Y = iris.target\n",
    "\n",
    "pca = PCA(n_components=2)\n",
    "X = pca.fit_transform(X)\n",
    "Y = (Y > 0).astype(int)*2-1 # [0,1,2] --> [False,True,True] --> [0,1,1] --> [0,2,2] --> [-1,1,1]\n",
    "\n",
    "X_train, X_test, Y_train, Y_test = train_test_split(X, Y, test_size=0.4, random_state=2020)"
   ]
  },
  {
   "cell_type": "code",
   "execution_count": 4,
   "metadata": {},
   "outputs": [
    {
     "name": "stdout",
     "output_type": "stream",
     "text": [
      "[49 21 14 12  9  7  5  5  6  4  4  4  4  4  4  4  3  2  2  2  1  1  2  1\n",
      "  2  1  2  1  2  1  2  1  2  1  2  1  2  1  1  2  1  2  1  2  1  2  1  2\n",
      "  1  2  1  2  0  0  0  0  0  0  0  0  0  0  0  0  0  0  0  0  0  0  0  0\n",
      "  0  0  0  0  0  0  0  0  0  0  0  0  0  0  0  0  0  0  0  0  0  0  0  0\n",
      "  0  0  0  0]\n",
      "[ 1.03289462 -0.87802359  1.32461096]\n"
     ]
    },
    {
     "data": {
      "image/png": "[encoded data removed]",
      "text/plain": [
       "<Figure size 432x288 with 1 Axes>"
      ]
     },
     "metadata": {
      "needs_background": "light"
     },
     "output_type": "display_data"
    }
   ],
   "source": [
    "# блок инициализиции и обучения\n",
    "svm = CustomSVM(etha=0.01, alpha=0.1, epochs=100)\n",
    "svm.fit(X_train, Y_train)\n",
    "\n",
    "\n",
    "print(svm.fit_n_errors) # numbers of error in each epoch\n",
    "#print(svm.fit_loss)\n",
    "print(svm._w) # w0*x_i[0]+w1*x_i[1]=w2\n",
    "\n",
    "plt.plot(svm.fit_loss)\n",
    "plt.show()"
   ]
  },
  {
   "cell_type": "code",
   "execution_count": 5,
   "metadata": {},
   "outputs": [
    {
     "data": {
      "image/png": "[encoded data removed]",
      "text/plain": [
       "<Figure size 432x288 with 1 Axes>"
      ]
     },
     "metadata": {
      "needs_background": "light"
     },
     "output_type": "display_data"
    }
   ],
   "source": [
    "# блок\n",
    "import matplotlib.pyplot as plt\n",
    "import matplotlib.lines as mlines\n",
    "\n",
    "def newline(p1, p2):\n",
    "    #function kredits to: https://fooobar.com/questions/626491/how-to-draw-a-line-with-matplotlib\n",
    "    ax = plt.gca()\n",
    "    xmin, xmax = ax.get_xbound()\n",
    "\n",
    "    if(p2[0] == p1[0]):\n",
    "        xmin = xmax = p1[0]\n",
    "        ymin, ymax = ax.get_ybound()\n",
    "    else:\n",
    "        ymax = p1[1]+(p2[1]-p1[1])/(p2[0]-p1[0])*(xmax-p1[0])\n",
    "        ymin = p1[1]+(p2[1]-p1[1])/(p2[0]-p1[0])*(xmin-p1[0])\n",
    "\n",
    "    l = mlines.Line2D([xmin,xmax], [ymin,ymax])\n",
    "    ax.add_line(l)\n",
    "    return l\n",
    "\n",
    "\n",
    "d = {-1:'green', 1:'red'}\n",
    "plt.scatter(X_train[:,0], X_train[:,1], c=[d[y] for y in Y_train])\n",
    "newline([0,-svm._w[2]/svm._w[1]],[-svm._w[2]/svm._w[0],0]) # в w0*x_i[0]+w1*x_i[1]+w2*1=0 поочередно\n",
    "                                                        # подставляем x_i[0]=0, x_i[1]=0\n",
    "plt.show()"
   ]
  },
  {
   "cell_type": "markdown",
   "metadata": {},
   "source": [
    "#### Убеждаемся, что все объекты из отложенной выборки классифицируются правильно"
   ]
  },
  {
   "cell_type": "code",
   "execution_count": 6,
   "metadata": {},
   "outputs": [
    {
     "data": {
      "image/png": "[encoded data removed]",
      "text/plain": [
       "<Figure size 432x288 with 1 Axes>"
      ]
     },
     "metadata": {
      "needs_background": "light"
     },
     "output_type": "display_data"
    }
   ],
   "source": [
    "# предсказываем после обучения\n",
    "y_pred = svm.predict(X_test)\n",
    "\n",
    "d1 = {-1:'lime', 1:'m'}\n",
    "plt.scatter(X_test[:,0], X_test[:,1], c=[d1[y] for y in y_pred])\n",
    "newline([0,-svm._w[2]/svm._w[1]],[-svm._w[2]/svm._w[0],0])\n",
    "plt.show()"
   ]
  },
  {
   "cell_type": "markdown",
   "metadata": {},
   "source": [
    "### Далее:\n",
    " - алгоритм с мягким зазором (soft-margin SVM) при линейно неразделимых данных. Позволим алгоритму допускать ошибки на обучающих объектах, но при этом постараемся, чтобы ошибок было поменьше. Сделаем пример на том же датасете Ирис, для классов 1 и 2 (до этого отделяли класс 0 от 1+2)"
   ]
  }
 ],
 "metadata": {
  "kernelspec": {
   "display_name": "Python 3",
   "language": "python",
   "name": "python3"
  },
  "language_info": {
   "codemirror_mode": {
    "name": "ipython",
    "version": 3
   },
   "file_extension": ".py",
   "mimetype": "text/x-python",
   "name": "python",
   "nbconvert_exporter": "python",
   "pygments_lexer": "ipython3",
   "version": "3.7.4"
  }
 },
 "nbformat": 4,
 "nbformat_minor": 2
}
